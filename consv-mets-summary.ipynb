{
 "cells": [
  {
   "cell_type": "markdown",
   "metadata": {},
   "source": [
    "Count all files in the consvmets data\n",
    "- load their csv\n",
    "- assign each folder to a dataset\n",
    "- count audio files"
   ]
  },
  {
   "cell_type": "code",
   "execution_count": 1,
   "metadata": {},
   "outputs": [],
   "source": [
    "import pandas as pd\n",
    "import csv\n",
    "import os"
   ]
  },
  {
   "cell_type": "code",
   "execution_count": 12,
   "metadata": {},
   "outputs": [],
   "source": [
    "# define master folder\n",
    "master_folder = r'D:\\CV4Eco\\Data\\Conservation Metrics data\\cmi_soundfiles_20230719\\src'\n",
    "\n",
    "# folder to write results to\n",
    "results_folder = r'C:\\Users\\ben07\\OneDrive - University College London\\Google\\work\\data_wrangling\\csvs'"
   ]
  },
  {
   "cell_type": "code",
   "execution_count": 3,
   "metadata": {},
   "outputs": [
    {
     "name": "stdout",
     "output_type": "stream",
     "text": [
      "Atlantic\n",
      "CMI_PalmyraReef_2023_R1_FLAC\n",
      "CMI_Palmyra_HydroMoth_2021_R1\n",
      "CRIMP_Kaneohe_2022_R1\n",
      "CRIMP_Kaneohe_2023_R1_FLAC\n",
      "HIMB_Halos_2022_R1\n",
      "HIMB_Halos_2022_R2\n",
      "HIMB_Halos_2022_R3\n",
      "HIMB_Halos_2022_R4\n",
      "HIMB_Halos_2022_R5\n",
      "HIMB_Halos_2023_R1\n",
      "HIMB_Halos_2023_R2\n",
      "HIMB_Halos_2023_R3_FLAC\n",
      "HIMB_Halos_2023_R4_FLAC\n",
      "mozambique\n",
      "NOAA_SanctSound_FLKeys\n",
      "Rice_Pacific\n",
      "SOS_STX_2022_R6_FLAC\n",
      "SOS_STX_2022_R7_FLAC\n",
      "SOS_STX_ButlerBay\n",
      "SOS_Thailand_2023_R1_FLAC\n",
      "SOS_ZAN_ChumbeIsland\n"
     ]
    }
   ],
   "source": [
    "# list all dirs in master folder\n",
    "def list_directories(master_folder):\n",
    "    with os.scandir(master_folder) as entries:\n",
    "        for entry in entries:\n",
    "            if entry.is_dir():\n",
    "                print(entry.name)\n",
    "\n",
    "# Run\n",
    "dataset_list = list_directories(master_folder)"
   ]
  },
  {
   "cell_type": "markdown",
   "metadata": {},
   "source": [
    "Now we bin folders into specific datasets"
   ]
  },
  {
   "cell_type": "markdown",
   "metadata": {},
   "source": [
    "# to do here!\n",
    "- add all desired metadata keys to datasets dict. have None for empties\n",
    "- this will create a csv with all the info i want. maybe create a mini for just each dataset. send this to jill and ask if they can fill any metadata gaps.\n",
    "- get this to github"
   ]
  },
  {
   "cell_type": "code",
   "execution_count": null,
   "metadata": {},
   "outputs": [],
   "source": [
    "# Define the datasets\n",
    "datasets = {\n",
    "    \"palmyra_hydromoth\": {\"folders\": [\"CMI_Palmyra_HydroMoth_2021_R1\"], \"data_owner\": \"CMI\", \"hydrophone_type\": \"TypeA\"},\n",
    "    \"palmyra_other\": [\"CMI_PalmyraReef_2023_R1_FLAC\"],\n",
    "    \"hawaii_kaneohe\": [\"CRIMP_Kaneohe_2022_R1\", \"CRIMP_Kaneohe_2023_R1_FLAC\"],\n",
    "    \"hawaii_himb\": [\"HIMB_Halos_2022_R1\",\n",
    "                    \"HIMB_Halos_2022_R2\",\n",
    "                    \"HIMB_Halos_2022_R3\",\n",
    "                    \"HIMB_Halos_2022_R4\",\n",
    "                    \"HIMB_Halos_2022_R5\",\n",
    "                    \"HIMB_Halos_2023_R1\",\n",
    "                    \"HIMB_Halos_2023_R2\",\n",
    "                    \"HIMB_Halos_2023_R3_FLAC\",\n",
    "                    \"HIMB_Halos_2023_R4_FLAC\"],\n",
    "    \"mozambique\": [\"mozambique\"],\n",
    "    \"florida_noaa\": [\"NOAA_SanctSound_FLKeys\"],\n",
    "    \"philippines_rice\": [\"Rice_Pacific\"],\n",
    "    \"usvi\": [\"SOS_STX_2022_R6_FLAC\",\"SOS_STX_2022_R7_FLAC\",\"SOS_STX_ButlerBay\"],\n",
    "    \"thailand\": [\"SOS_Thailand_2023_R1_FLAC\"],\n",
    "    \"zanzibar\": [\"SOS_ZAN_ChumbeIsland\"],\n",
    "    \"belize\": [\"Atlantic/Belize\"],\n",
    "    \"bermuda\": [\"Atlantic/Bermuda\"],\n",
    "    \"mexico\": [\"Atlantic/Cozumel\"]\n",
    "}"
   ]
  },
  {
   "cell_type": "code",
   "execution_count": 10,
   "metadata": {},
   "outputs": [],
   "source": [
    "# Define the datasets\n",
    "datasets = {\n",
    "    \"palmyra_hydromoth\": [\"CMI_Palmyra_HydroMoth_2021_R1\"],\n",
    "    \"palmyra_other\": [\"CMI_PalmyraReef_2023_R1_FLAC\"],\n",
    "    \"hawaii_kaneohe\": [\"CRIMP_Kaneohe_2022_R1\", \"CRIMP_Kaneohe_2023_R1_FLAC\"],\n",
    "    \"hawaii_himb\": [\"HIMB_Halos_2022_R1\",\n",
    "                    \"HIMB_Halos_2022_R2\",\n",
    "                    \"HIMB_Halos_2022_R3\",\n",
    "                    \"HIMB_Halos_2022_R4\",\n",
    "                    \"HIMB_Halos_2022_R5\",\n",
    "                    \"HIMB_Halos_2023_R1\",\n",
    "                    \"HIMB_Halos_2023_R2\",\n",
    "                    \"HIMB_Halos_2023_R3_FLAC\",\n",
    "                    \"HIMB_Halos_2023_R4_FLAC\"],\n",
    "    \"mozambique\": [\"mozambique\"],\n",
    "    \"florida_noaa\": [\"NOAA_SanctSound_FLKeys\"],\n",
    "    \"philippines_rice\": [\"Rice_Pacific\"],\n",
    "    \"usvi\": [\"SOS_STX_2022_R6_FLAC\",\"SOS_STX_2022_R7_FLAC\",\"SOS_STX_ButlerBay\"],\n",
    "    \"thailand\": [\"SOS_Thailand_2023_R1_FLAC\"],\n",
    "    \"zanzibar\": [\"SOS_ZAN_ChumbeIsland\"],\n",
    "    \"belize\": [\"Atlantic/Belize\"],\n",
    "    \"bermuda\": [\"Atlantic/Bermuda\"],\n",
    "    \"mexico\": [\"Atlantic/Cozumel\"]\n",
    "}"
   ]
  },
  {
   "cell_type": "code",
   "execution_count": 25,
   "metadata": {},
   "outputs": [],
   "source": [
    "# datasets = { \"bermuda\": {\"folders\":[\"Atlantic/Bermuda\"], \"data_owner\": \"CMI\", \"hydrophone_type\": \"TypeA\"},\n",
    "#     \"mexico\": {\"folders\":[\"Atlantic/Cozumel\"], \"data_owner\": \"who\", \"hydrophone_type\": \"TypeA\"}\n",
    "# }"
   ]
  },
  {
   "cell_type": "markdown",
   "metadata": {},
   "source": [
    "now start storing filepaths for audio files in each dataset"
   ]
  },
  {
   "cell_type": "code",
   "execution_count": 33,
   "metadata": {},
   "outputs": [
    {
     "name": "stdout",
     "output_type": "stream",
     "text": [
      "Number of audio files per dataset:\n",
      "dataset\n",
      "bermuda    3766\n",
      "mexico     1086\n",
      "dtype: int64\n",
      "Total audio files: 4852\n"
     ]
    }
   ],
   "source": [
    "def collect_audio_files(folder_path, dataset_name, meta_data, file_list):\n",
    "    for root, dirs, files in os.walk(folder_path):\n",
    "        for file in files:\n",
    "            if file.lower().endswith(('.flac', '.wav')):\n",
    "                rel_path = os.path.relpath(root, start=\"D:\\\\CV4Eco\\\\Data\\\\Conservation Metrics data\\\\cmi_soundfiles_20230719\")\n",
    "                full_rel_path = os.path.join(rel_path, file)\n",
    "                file_info = {\"filepath\": full_rel_path, \"dataset\": dataset_name}\n",
    "                file_info.update(meta_data)  # add extra info like 'data_owner', 'hydrophone_type', etc.\n",
    "                file_list.append(file_info)\n",
    "\n",
    "\n",
    "file_list = []\n",
    "\n",
    "for dataset, attributes in datasets.items():\n",
    "    folders = attributes.get(\"folders\", [])\n",
    "    meta_data = {k: v for k, v in attributes.items() if k != \"folders\"}  # Exclude 'folders' from meta_data\n",
    "\n",
    "    for folder in folders:\n",
    "        folder_path = os.path.join(master_folder, folder)\n",
    "        collect_audio_files(folder_path, dataset, meta_data, file_list)\n",
    "\n",
    "# Create DataFrame\n",
    "df = pd.DataFrame(file_list)\n",
    "\n",
    "# Print dataset counts\n",
    "dataset_counts = df.groupby('dataset').size()\n",
    "print(\"Number of audio files per dataset:\")\n",
    "print(dataset_counts)\n",
    "\n",
    "# Print total count\n",
    "print(f\"Total audio files: {len(df)}\")\n",
    "\n",
    "# Save DataFrame to CSV\n",
    "df.to_csv(results_folder + \"/consvmets_file_list.csv\", index=False)"
   ]
  },
  {
   "cell_type": "code",
   "execution_count": 31,
   "metadata": {},
   "outputs": [
    {
     "data": {
      "text/html": [
       "<div>\n",
       "<style scoped>\n",
       "    .dataframe tbody tr th:only-of-type {\n",
       "        vertical-align: middle;\n",
       "    }\n",
       "\n",
       "    .dataframe tbody tr th {\n",
       "        vertical-align: top;\n",
       "    }\n",
       "\n",
       "    .dataframe thead th {\n",
       "        text-align: right;\n",
       "    }\n",
       "</style>\n",
       "<table border=\"1\" class=\"dataframe\">\n",
       "  <thead>\n",
       "    <tr style=\"text-align: right;\">\n",
       "      <th></th>\n",
       "      <th>filepath</th>\n",
       "      <th>dataset</th>\n",
       "      <th>data_owner</th>\n",
       "      <th>hydrophone_type</th>\n",
       "    </tr>\n",
       "  </thead>\n",
       "  <tbody>\n",
       "    <tr>\n",
       "      <th>0</th>\n",
       "      <td>src\\Atlantic\\Bermuda\\805347352-Sound Files\\805...</td>\n",
       "      <td>bermuda</td>\n",
       "      <td>CMI</td>\n",
       "      <td>TypeA</td>\n",
       "    </tr>\n",
       "    <tr>\n",
       "      <th>1</th>\n",
       "      <td>src\\Atlantic\\Bermuda\\805347352-Sound Files\\805...</td>\n",
       "      <td>bermuda</td>\n",
       "      <td>CMI</td>\n",
       "      <td>TypeA</td>\n",
       "    </tr>\n",
       "    <tr>\n",
       "      <th>2</th>\n",
       "      <td>src\\Atlantic\\Bermuda\\805347352-Sound Files\\805...</td>\n",
       "      <td>bermuda</td>\n",
       "      <td>CMI</td>\n",
       "      <td>TypeA</td>\n",
       "    </tr>\n",
       "    <tr>\n",
       "      <th>3</th>\n",
       "      <td>src\\Atlantic\\Bermuda\\805347352-Sound Files\\805...</td>\n",
       "      <td>bermuda</td>\n",
       "      <td>CMI</td>\n",
       "      <td>TypeA</td>\n",
       "    </tr>\n",
       "    <tr>\n",
       "      <th>4</th>\n",
       "      <td>src\\Atlantic\\Bermuda\\805347352-Sound Files\\805...</td>\n",
       "      <td>bermuda</td>\n",
       "      <td>CMI</td>\n",
       "      <td>TypeA</td>\n",
       "    </tr>\n",
       "    <tr>\n",
       "      <th>...</th>\n",
       "      <td>...</td>\n",
       "      <td>...</td>\n",
       "      <td>...</td>\n",
       "      <td>...</td>\n",
       "    </tr>\n",
       "    <tr>\n",
       "      <th>4847</th>\n",
       "      <td>src\\Atlantic\\Cozumel\\Cozumel_wavs\\AMAR394_1_03...</td>\n",
       "      <td>mexico</td>\n",
       "      <td>who</td>\n",
       "      <td>TypeA</td>\n",
       "    </tr>\n",
       "    <tr>\n",
       "      <th>4848</th>\n",
       "      <td>src\\Atlantic\\Cozumel\\Cozumel_wavs\\AMAR394_1_03...</td>\n",
       "      <td>mexico</td>\n",
       "      <td>who</td>\n",
       "      <td>TypeA</td>\n",
       "    </tr>\n",
       "    <tr>\n",
       "      <th>4849</th>\n",
       "      <td>src\\Atlantic\\Cozumel\\Cozumel_wavs\\AMAR394_1_03...</td>\n",
       "      <td>mexico</td>\n",
       "      <td>who</td>\n",
       "      <td>TypeA</td>\n",
       "    </tr>\n",
       "    <tr>\n",
       "      <th>4850</th>\n",
       "      <td>src\\Atlantic\\Cozumel\\Cozumel_wavs\\AMAR394_1_03...</td>\n",
       "      <td>mexico</td>\n",
       "      <td>who</td>\n",
       "      <td>TypeA</td>\n",
       "    </tr>\n",
       "    <tr>\n",
       "      <th>4851</th>\n",
       "      <td>src\\Atlantic\\Cozumel\\Cozumel_wavs\\AMAR394_1_03...</td>\n",
       "      <td>mexico</td>\n",
       "      <td>who</td>\n",
       "      <td>TypeA</td>\n",
       "    </tr>\n",
       "  </tbody>\n",
       "</table>\n",
       "<p>4852 rows × 4 columns</p>\n",
       "</div>"
      ],
      "text/plain": [
       "                                               filepath  dataset data_owner  \\\n",
       "0     src\\Atlantic\\Bermuda\\805347352-Sound Files\\805...  bermuda        CMI   \n",
       "1     src\\Atlantic\\Bermuda\\805347352-Sound Files\\805...  bermuda        CMI   \n",
       "2     src\\Atlantic\\Bermuda\\805347352-Sound Files\\805...  bermuda        CMI   \n",
       "3     src\\Atlantic\\Bermuda\\805347352-Sound Files\\805...  bermuda        CMI   \n",
       "4     src\\Atlantic\\Bermuda\\805347352-Sound Files\\805...  bermuda        CMI   \n",
       "...                                                 ...      ...        ...   \n",
       "4847  src\\Atlantic\\Cozumel\\Cozumel_wavs\\AMAR394_1_03...   mexico        who   \n",
       "4848  src\\Atlantic\\Cozumel\\Cozumel_wavs\\AMAR394_1_03...   mexico        who   \n",
       "4849  src\\Atlantic\\Cozumel\\Cozumel_wavs\\AMAR394_1_03...   mexico        who   \n",
       "4850  src\\Atlantic\\Cozumel\\Cozumel_wavs\\AMAR394_1_03...   mexico        who   \n",
       "4851  src\\Atlantic\\Cozumel\\Cozumel_wavs\\AMAR394_1_03...   mexico        who   \n",
       "\n",
       "     hydrophone_type  \n",
       "0              TypeA  \n",
       "1              TypeA  \n",
       "2              TypeA  \n",
       "3              TypeA  \n",
       "4              TypeA  \n",
       "...              ...  \n",
       "4847           TypeA  \n",
       "4848           TypeA  \n",
       "4849           TypeA  \n",
       "4850           TypeA  \n",
       "4851           TypeA  \n",
       "\n",
       "[4852 rows x 4 columns]"
      ]
     },
     "execution_count": 31,
     "metadata": {},
     "output_type": "execute_result"
    }
   ],
   "source": [
    "df"
   ]
  }
 ],
 "metadata": {
  "kernelspec": {
   "display_name": "scratch-env",
   "language": "python",
   "name": "python3"
  },
  "language_info": {
   "codemirror_mode": {
    "name": "ipython",
    "version": 3
   },
   "file_extension": ".py",
   "mimetype": "text/x-python",
   "name": "python",
   "nbconvert_exporter": "python",
   "pygments_lexer": "ipython3",
   "version": "3.11.4"
  },
  "orig_nbformat": 4
 },
 "nbformat": 4,
 "nbformat_minor": 2
}
